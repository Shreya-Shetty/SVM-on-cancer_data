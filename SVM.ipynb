{
 "cells": [
  {
   "cell_type": "markdown",
   "metadata": {},
   "source": [
    "## Finding best parameters of Support Vector Machine on cancer dataset(sklearn.datasets)"
   ]
  },
  {
   "cell_type": "markdown",
   "metadata": {},
   "source": [
    "### Loading the ‘load_breast_cancer’ dataset from sklearn.datasets and renaming the dataset ‘cancer_data.’ "
   ]
  },
  {
   "cell_type": "code",
   "execution_count": 1,
   "metadata": {},
   "outputs": [],
   "source": [
    "from sklearn.model_selection import train_test_split\n",
    "from sklearn.datasets import load_breast_cancer\n",
    "from sklearn.model_selection import GridSearchCV\n",
    "from sklearn.svm import SVC,SVR,LinearSVC\n",
    "from sklearn import metrics\n",
    "from sklearn.metrics import classification_report"
   ]
  },
  {
   "cell_type": "code",
   "execution_count": 2,
   "metadata": {},
   "outputs": [],
   "source": [
    "cancer_data=load_breast_cancer()"
   ]
  },
  {
   "cell_type": "markdown",
   "metadata": {},
   "source": [
    "### Explore the data by looking at the shape of the ‘cancer_data.’"
   ]
  },
  {
   "cell_type": "code",
   "execution_count": 3,
   "metadata": {},
   "outputs": [
    {
     "data": {
      "text/plain": [
       "(569, 30)"
      ]
     },
     "execution_count": 3,
     "metadata": {},
     "output_type": "execute_result"
    }
   ],
   "source": [
    "cancer_data.data.shape"
   ]
  },
  {
   "cell_type": "code",
   "execution_count": 4,
   "metadata": {},
   "outputs": [],
   "source": [
    "X = cancer_data.data\n",
    "\n",
    "Y = cancer_data.target"
   ]
  },
  {
   "cell_type": "markdown",
   "metadata": {},
   "source": [
    "### Creating a test and train dataset. The test set represents 40% of the total dataset."
   ]
  },
  {
   "cell_type": "code",
   "execution_count": 5,
   "metadata": {},
   "outputs": [],
   "source": [
    "# Split the data into Trainging and Testing sets\n",
    "X_train, X_test, Y_train, Y_test = train_test_split(X, Y,test_size = 0.40,random_state =42)"
   ]
  },
  {
   "cell_type": "markdown",
   "metadata": {},
   "source": [
    "### Importing the ‘SVM’ module from sklearn to create a support vector classifier in svc() by passing the argument kernel as the linear kernel."
   ]
  },
  {
   "cell_type": "code",
   "execution_count": 6,
   "metadata": {},
   "outputs": [],
   "source": [
    "cls = SVC(kernel = \"linear\")"
   ]
  },
  {
   "cell_type": "code",
   "execution_count": 7,
   "metadata": {},
   "outputs": [
    {
     "data": {
      "text/plain": [
       "SVC(C=1.0, cache_size=200, class_weight=None, coef0=0.0,\n",
       "    decision_function_shape='ovr', degree=3, gamma='auto_deprecated',\n",
       "    kernel='linear', max_iter=-1, probability=False, random_state=None,\n",
       "    shrinking=True, tol=0.001, verbose=False)"
      ]
     },
     "execution_count": 7,
     "metadata": {},
     "output_type": "execute_result"
    }
   ],
   "source": [
    "cls.fit(X_train,Y_train)"
   ]
  },
  {
   "cell_type": "code",
   "execution_count": 8,
   "metadata": {},
   "outputs": [
    {
     "data": {
      "text/plain": [
       "SVC(C=1.0, cache_size=200, class_weight=None, coef0=0.0,\n",
       "    decision_function_shape='ovr', degree=3, gamma='auto_deprecated',\n",
       "    kernel='linear', max_iter=-1, probability=False, random_state=None,\n",
       "    shrinking=True, tol=0.001, verbose=False)"
      ]
     },
     "execution_count": 8,
     "metadata": {},
     "output_type": "execute_result"
    }
   ],
   "source": [
    "cls.fit(X_train,Y_train)"
   ]
  },
  {
   "cell_type": "code",
   "execution_count": 9,
   "metadata": {},
   "outputs": [],
   "source": [
    "#Get predictions\n",
    "y_pred = cls.predict(X_test)"
   ]
  },
  {
   "cell_type": "markdown",
   "metadata": {},
   "source": [
    "### Evaluating the model by providing separately the accuracy, precision, recall, and the classification report. "
   ]
  },
  {
   "cell_type": "code",
   "execution_count": 10,
   "metadata": {},
   "outputs": [
    {
     "name": "stdout",
     "output_type": "stream",
     "text": [
      "Accuracy: 0.96\n",
      "Precision :0.97\n",
      "Recall: 0.97\n"
     ]
    }
   ],
   "source": [
    "print (\"Accuracy: {:.2f}\".format(metrics.accuracy_score(Y_test,y_pred)))\n",
    "print (\"Precision :{:.2f}\".format(metrics.precision_score(Y_test,y_pred)))\n",
    "print (\"Recall: {:.2f}\".format(metrics.recall_score(Y_test,y_pred)))"
   ]
  },
  {
   "cell_type": "code",
   "execution_count": 11,
   "metadata": {},
   "outputs": [
    {
     "name": "stdout",
     "output_type": "stream",
     "text": [
      "The classification report:\n",
      "              precision    recall  f1-score   support\n",
      "\n",
      "           0       0.95      0.94      0.94        80\n",
      "           1       0.97      0.97      0.97       148\n",
      "\n",
      "    accuracy                           0.96       228\n",
      "   macro avg       0.96      0.96      0.96       228\n",
      "weighted avg       0.96      0.96      0.96       228\n",
      "\n"
     ]
    }
   ],
   "source": [
    "print(\"The classification report:\")\n",
    "print(classification_report(Y_test,y_pred))"
   ]
  },
  {
   "cell_type": "markdown",
   "metadata": {},
   "source": [
    "### Definitions\n",
    "\n",
    "ACCURACY: It is the ratio of correctly predicted observations to total number of observations. The model has an accuracy of 96% which is good and dependable.<br>\n",
    "PRECISION: It is the ratio of correctly predicted positive observations to total predicted positive observations. Precision is similar to Accuracy. So the model's prediction says the models output is 97% correct.<br>\n",
    "RECALL: The ratio of correctly predicted positive observations to total observations."
   ]
  },
  {
   "cell_type": "markdown",
   "metadata": {},
   "source": [
    "### Using kernel=’rbf’, C=[0.1,1, 100], ‘epsilon’=[0.1,0.5,1] and gamma=[1,3,5], finding the best parameters?"
   ]
  },
  {
   "cell_type": "code",
   "execution_count": 12,
   "metadata": {},
   "outputs": [],
   "source": [
    "param_grid={'C':[0.1,1,100],'epsilon':[0.1,0.5,1],'gamma':[1,3,5]}"
   ]
  },
  {
   "cell_type": "code",
   "execution_count": 13,
   "metadata": {},
   "outputs": [],
   "source": [
    "grid=GridSearchCV(SVR(kernel='rbf'),param_grid,refit=True,verbose=3)"
   ]
  },
  {
   "cell_type": "code",
   "execution_count": 14,
   "metadata": {},
   "outputs": [],
   "source": [
    "predict = cls.predict(X_test)"
   ]
  },
  {
   "cell_type": "code",
   "execution_count": 15,
   "metadata": {
    "scrolled": true
   },
   "outputs": [
    {
     "name": "stdout",
     "output_type": "stream",
     "text": [
      "Fitting 3 folds for each of 27 candidates, totalling 81 fits\n",
      "[CV] C=0.1, epsilon=0.1, gamma=1 .....................................\n",
      "[CV] ........ C=0.1, epsilon=0.1, gamma=1, score=-0.193, total=   0.0s\n",
      "[CV] C=0.1, epsilon=0.1, gamma=1 .....................................\n",
      "[CV] ........ C=0.1, epsilon=0.1, gamma=1, score=-0.193, total=   0.0s\n",
      "[CV] C=0.1, epsilon=0.1, gamma=1 .....................................\n",
      "[CV] ........ C=0.1, epsilon=0.1, gamma=1, score=-0.252, total=   0.0s\n",
      "[CV] C=0.1, epsilon=0.1, gamma=3 .....................................\n",
      "[CV] ........ C=0.1, epsilon=0.1, gamma=3, score=-0.193, total=   0.0s"
     ]
    },
    {
     "name": "stderr",
     "output_type": "stream",
     "text": [
      "D:\\Python\\lib\\site-packages\\sklearn\\model_selection\\_split.py:1978: FutureWarning: The default value of cv will change from 3 to 5 in version 0.22. Specify it explicitly to silence this warning.\n",
      "  warnings.warn(CV_WARNING, FutureWarning)\n",
      "[Parallel(n_jobs=1)]: Using backend SequentialBackend with 1 concurrent workers.\n",
      "[Parallel(n_jobs=1)]: Done   1 out of   1 | elapsed:    0.0s remaining:    0.0s\n",
      "[Parallel(n_jobs=1)]: Done   2 out of   2 | elapsed:    0.0s remaining:    0.0s\n"
     ]
    },
    {
     "name": "stdout",
     "output_type": "stream",
     "text": [
      "\n",
      "[CV] C=0.1, epsilon=0.1, gamma=3 .....................................\n",
      "[CV] ........ C=0.1, epsilon=0.1, gamma=3, score=-0.193, total=   0.0s\n",
      "[CV] C=0.1, epsilon=0.1, gamma=3 .....................................\n",
      "[CV] ........ C=0.1, epsilon=0.1, gamma=3, score=-0.252, total=   0.0s\n",
      "[CV] C=0.1, epsilon=0.1, gamma=5 .....................................\n",
      "[CV] ........ C=0.1, epsilon=0.1, gamma=5, score=-0.193, total=   0.0s\n",
      "[CV] C=0.1, epsilon=0.1, gamma=5 .....................................\n",
      "[CV] ........ C=0.1, epsilon=0.1, gamma=5, score=-0.193, total=   0.0s\n",
      "[CV] C=0.1, epsilon=0.1, gamma=5 .....................................\n",
      "[CV] ........ C=0.1, epsilon=0.1, gamma=5, score=-0.252, total=   0.0s\n",
      "[CV] C=0.1, epsilon=0.5, gamma=1 .....................................\n",
      "[CV] ........ C=0.1, epsilon=0.5, gamma=1, score=-0.064, total=   0.0s\n",
      "[CV] C=0.1, epsilon=0.5, gamma=1 .....................................\n",
      "[CV] ........ C=0.1, epsilon=0.5, gamma=1, score=-0.064, total=   0.0s\n",
      "[CV] C=0.1, epsilon=0.5, gamma=1 .....................................\n",
      "[CV] ........ C=0.1, epsilon=0.5, gamma=1, score=-0.036, total=   0.0s\n",
      "[CV] C=0.1, epsilon=0.5, gamma=3 .....................................\n",
      "[CV] ........ C=0.1, epsilon=0.5, gamma=3, score=-0.064, total=   0.0s\n",
      "[CV] C=0.1, epsilon=0.5, gamma=3 .....................................\n",
      "[CV] ........ C=0.1, epsilon=0.5, gamma=3, score=-0.064, total=   0.0s\n",
      "[CV] C=0.1, epsilon=0.5, gamma=3 .....................................\n",
      "[CV] ........ C=0.1, epsilon=0.5, gamma=3, score=-0.036, total=   0.0s\n",
      "[CV] C=0.1, epsilon=0.5, gamma=5 .....................................\n",
      "[CV] ........ C=0.1, epsilon=0.5, gamma=5, score=-0.064, total=   0.0s\n",
      "[CV] C=0.1, epsilon=0.5, gamma=5 .....................................\n",
      "[CV] ........ C=0.1, epsilon=0.5, gamma=5, score=-0.064, total=   0.0s\n",
      "[CV] C=0.1, epsilon=0.5, gamma=5 .....................................\n",
      "[CV] ........ C=0.1, epsilon=0.5, gamma=5, score=-0.036, total=   0.0s\n",
      "[CV] C=0.1, epsilon=1, gamma=1 .......................................\n",
      "[CV] .......... C=0.1, epsilon=1, gamma=1, score=-0.064, total=   0.0s\n",
      "[CV] C=0.1, epsilon=1, gamma=1 .......................................\n",
      "[CV] .......... C=0.1, epsilon=1, gamma=1, score=-0.064, total=   0.0s\n",
      "[CV] C=0.1, epsilon=1, gamma=1 .......................................\n",
      "[CV] .......... C=0.1, epsilon=1, gamma=1, score=-0.036, total=   0.0s\n",
      "[CV] C=0.1, epsilon=1, gamma=3 .......................................\n",
      "[CV] .......... C=0.1, epsilon=1, gamma=3, score=-0.064, total=   0.0s\n",
      "[CV] C=0.1, epsilon=1, gamma=3 .......................................\n",
      "[CV] .......... C=0.1, epsilon=1, gamma=3, score=-0.064, total=   0.0s\n",
      "[CV] C=0.1, epsilon=1, gamma=3 .......................................\n",
      "[CV] .......... C=0.1, epsilon=1, gamma=3, score=-0.036, total=   0.0s\n",
      "[CV] C=0.1, epsilon=1, gamma=5 .......................................\n",
      "[CV] .......... C=0.1, epsilon=1, gamma=5, score=-0.064, total=   0.0s\n",
      "[CV] C=0.1, epsilon=1, gamma=5 .......................................\n",
      "[CV] .......... C=0.1, epsilon=1, gamma=5, score=-0.064, total=   0.0s\n",
      "[CV] C=0.1, epsilon=1, gamma=5 .......................................\n",
      "[CV] .......... C=0.1, epsilon=1, gamma=5, score=-0.036, total=   0.0s\n",
      "[CV] C=1, epsilon=0.1, gamma=1 .......................................\n",
      "[CV] .......... C=1, epsilon=0.1, gamma=1, score=-0.006, total=   0.0s\n",
      "[CV] C=1, epsilon=0.1, gamma=1 .......................................\n",
      "[CV] .......... C=1, epsilon=0.1, gamma=1, score=-0.006, total=   0.0s\n",
      "[CV] C=1, epsilon=0.1, gamma=1 .......................................\n",
      "[CV] .......... C=1, epsilon=0.1, gamma=1, score=-0.000, total=   0.0s\n",
      "[CV] C=1, epsilon=0.1, gamma=3 .......................................\n",
      "[CV] .......... C=1, epsilon=0.1, gamma=3, score=-0.006, total=   0.0s\n",
      "[CV] C=1, epsilon=0.1, gamma=3 .......................................\n",
      "[CV] .......... C=1, epsilon=0.1, gamma=3, score=-0.006, total=   0.0s\n",
      "[CV] C=1, epsilon=0.1, gamma=3 .......................................\n",
      "[CV] .......... C=1, epsilon=0.1, gamma=3, score=-0.000, total=   0.0s\n",
      "[CV] C=1, epsilon=0.1, gamma=5 .......................................\n",
      "[CV] .......... C=1, epsilon=0.1, gamma=5, score=-0.006, total=   0.0s\n",
      "[CV] C=1, epsilon=0.1, gamma=5 .......................................\n",
      "[CV] .......... C=1, epsilon=0.1, gamma=5, score=-0.006, total=   0.0s\n",
      "[CV] C=1, epsilon=0.1, gamma=5 .......................................\n",
      "[CV] .......... C=1, epsilon=0.1, gamma=5, score=-0.000, total=   0.0s\n",
      "[CV] C=1, epsilon=0.5, gamma=1 .......................................\n",
      "[CV] .......... C=1, epsilon=0.5, gamma=1, score=-0.064, total=   0.0s\n",
      "[CV] C=1, epsilon=0.5, gamma=1 .......................................\n",
      "[CV] .......... C=1, epsilon=0.5, gamma=1, score=-0.064, total=   0.0s\n",
      "[CV] C=1, epsilon=0.5, gamma=1 .......................................\n",
      "[CV] .......... C=1, epsilon=0.5, gamma=1, score=-0.036, total=   0.0s\n",
      "[CV] C=1, epsilon=0.5, gamma=3 .......................................\n",
      "[CV] .......... C=1, epsilon=0.5, gamma=3, score=-0.064, total=   0.0s\n",
      "[CV] C=1, epsilon=0.5, gamma=3 .......................................\n",
      "[CV] .......... C=1, epsilon=0.5, gamma=3, score=-0.064, total=   0.0s\n",
      "[CV] C=1, epsilon=0.5, gamma=3 .......................................\n",
      "[CV] .......... C=1, epsilon=0.5, gamma=3, score=-0.036, total=   0.0s\n",
      "[CV] C=1, epsilon=0.5, gamma=5 .......................................\n",
      "[CV] .......... C=1, epsilon=0.5, gamma=5, score=-0.064, total=   0.0s\n",
      "[CV] C=1, epsilon=0.5, gamma=5 .......................................\n",
      "[CV] .......... C=1, epsilon=0.5, gamma=5, score=-0.064, total=   0.0s\n",
      "[CV] C=1, epsilon=0.5, gamma=5 .......................................\n",
      "[CV] .......... C=1, epsilon=0.5, gamma=5, score=-0.036, total=   0.0s\n",
      "[CV] C=1, epsilon=1, gamma=1 .........................................\n",
      "[CV] ............ C=1, epsilon=1, gamma=1, score=-0.064, total=   0.0s\n",
      "[CV] C=1, epsilon=1, gamma=1 .........................................\n",
      "[CV] ............ C=1, epsilon=1, gamma=1, score=-0.064, total=   0.0s\n",
      "[CV] C=1, epsilon=1, gamma=1 .........................................\n",
      "[CV] ............ C=1, epsilon=1, gamma=1, score=-0.036, total=   0.0s\n",
      "[CV] C=1, epsilon=1, gamma=3 .........................................\n",
      "[CV] ............ C=1, epsilon=1, gamma=3, score=-0.064, total=   0.0s\n",
      "[CV] C=1, epsilon=1, gamma=3 .........................................\n",
      "[CV] ............ C=1, epsilon=1, gamma=3, score=-0.064, total=   0.0s\n",
      "[CV] C=1, epsilon=1, gamma=3 .........................................\n",
      "[CV] ............ C=1, epsilon=1, gamma=3, score=-0.036, total=   0.0s\n",
      "[CV] C=1, epsilon=1, gamma=5 .........................................\n",
      "[CV] ............ C=1, epsilon=1, gamma=5, score=-0.064, total=   0.0s\n",
      "[CV] C=1, epsilon=1, gamma=5 .........................................\n",
      "[CV] ............ C=1, epsilon=1, gamma=5, score=-0.064, total=   0.0s\n",
      "[CV] C=1, epsilon=1, gamma=5 .........................................\n",
      "[CV] ............ C=1, epsilon=1, gamma=5, score=-0.036, total=   0.0s\n",
      "[CV] C=100, epsilon=0.1, gamma=1 .....................................\n",
      "[CV] ........ C=100, epsilon=0.1, gamma=1, score=-0.006, total=   0.0s\n",
      "[CV] C=100, epsilon=0.1, gamma=1 .....................................\n",
      "[CV] ........ C=100, epsilon=0.1, gamma=1, score=-0.006, total=   0.0s\n",
      "[CV] C=100, epsilon=0.1, gamma=1 .....................................\n",
      "[CV] ........ C=100, epsilon=0.1, gamma=1, score=-0.000, total=   0.0s\n",
      "[CV] C=100, epsilon=0.1, gamma=3 .....................................\n",
      "[CV] ........ C=100, epsilon=0.1, gamma=3, score=-0.006, total=   0.0s\n",
      "[CV] C=100, epsilon=0.1, gamma=3 .....................................\n",
      "[CV] ........ C=100, epsilon=0.1, gamma=3, score=-0.006, total=   0.0s\n",
      "[CV] C=100, epsilon=0.1, gamma=3 .....................................\n",
      "[CV] ........ C=100, epsilon=0.1, gamma=3, score=-0.000, total=   0.0s\n",
      "[CV] C=100, epsilon=0.1, gamma=5 .....................................\n",
      "[CV] ........ C=100, epsilon=0.1, gamma=5, score=-0.006, total=   0.0s\n",
      "[CV] C=100, epsilon=0.1, gamma=5 .....................................\n",
      "[CV] ........ C=100, epsilon=0.1, gamma=5, score=-0.006, total=   0.0s\n",
      "[CV] C=100, epsilon=0.1, gamma=5 .....................................\n",
      "[CV] ........ C=100, epsilon=0.1, gamma=5, score=-0.000, total=   0.0s\n",
      "[CV] C=100, epsilon=0.5, gamma=1 .....................................\n",
      "[CV] ........ C=100, epsilon=0.5, gamma=1, score=-0.064, total=   0.0s\n",
      "[CV] C=100, epsilon=0.5, gamma=1 .....................................\n",
      "[CV] ........ C=100, epsilon=0.5, gamma=1, score=-0.064, total=   0.0s\n",
      "[CV] C=100, epsilon=0.5, gamma=1 .....................................\n",
      "[CV] ........ C=100, epsilon=0.5, gamma=1, score=-0.036, total=   0.0s\n",
      "[CV] C=100, epsilon=0.5, gamma=3 .....................................\n"
     ]
    },
    {
     "name": "stdout",
     "output_type": "stream",
     "text": [
      "[CV] ........ C=100, epsilon=0.5, gamma=3, score=-0.064, total=   0.0s\n",
      "[CV] C=100, epsilon=0.5, gamma=3 .....................................\n",
      "[CV] ........ C=100, epsilon=0.5, gamma=3, score=-0.064, total=   0.0s\n",
      "[CV] C=100, epsilon=0.5, gamma=3 .....................................\n",
      "[CV] ........ C=100, epsilon=0.5, gamma=3, score=-0.036, total=   0.0s\n",
      "[CV] C=100, epsilon=0.5, gamma=5 .....................................\n",
      "[CV] ........ C=100, epsilon=0.5, gamma=5, score=-0.064, total=   0.0s\n",
      "[CV] C=100, epsilon=0.5, gamma=5 .....................................\n",
      "[CV] ........ C=100, epsilon=0.5, gamma=5, score=-0.064, total=   0.0s\n",
      "[CV] C=100, epsilon=0.5, gamma=5 .....................................\n",
      "[CV] ........ C=100, epsilon=0.5, gamma=5, score=-0.036, total=   0.0s\n",
      "[CV] C=100, epsilon=1, gamma=1 .......................................\n",
      "[CV] .......... C=100, epsilon=1, gamma=1, score=-0.064, total=   0.0s\n",
      "[CV] C=100, epsilon=1, gamma=1 .......................................\n",
      "[CV] .......... C=100, epsilon=1, gamma=1, score=-0.064, total=   0.0s\n",
      "[CV] C=100, epsilon=1, gamma=1 .......................................\n",
      "[CV] .......... C=100, epsilon=1, gamma=1, score=-0.036, total=   0.0s\n",
      "[CV] C=100, epsilon=1, gamma=3 .......................................\n",
      "[CV] .......... C=100, epsilon=1, gamma=3, score=-0.064, total=   0.0s\n",
      "[CV] C=100, epsilon=1, gamma=3 .......................................\n",
      "[CV] .......... C=100, epsilon=1, gamma=3, score=-0.064, total=   0.0s\n",
      "[CV] C=100, epsilon=1, gamma=3 .......................................\n",
      "[CV] .......... C=100, epsilon=1, gamma=3, score=-0.036, total=   0.0s\n",
      "[CV] C=100, epsilon=1, gamma=5 .......................................\n",
      "[CV] .......... C=100, epsilon=1, gamma=5, score=-0.064, total=   0.0s\n",
      "[CV] C=100, epsilon=1, gamma=5 .......................................\n",
      "[CV] .......... C=100, epsilon=1, gamma=5, score=-0.064, total=   0.0s\n",
      "[CV] C=100, epsilon=1, gamma=5 .......................................\n",
      "[CV] .......... C=100, epsilon=1, gamma=5, score=-0.036, total=   0.0s\n"
     ]
    },
    {
     "name": "stderr",
     "output_type": "stream",
     "text": [
      "[Parallel(n_jobs=1)]: Done  81 out of  81 | elapsed:    0.6s finished\n"
     ]
    },
    {
     "data": {
      "text/plain": [
       "GridSearchCV(cv='warn', error_score='raise-deprecating',\n",
       "             estimator=SVR(C=1.0, cache_size=200, coef0=0.0, degree=3,\n",
       "                           epsilon=0.1, gamma='auto_deprecated', kernel='rbf',\n",
       "                           max_iter=-1, shrinking=True, tol=0.001,\n",
       "                           verbose=False),\n",
       "             iid='warn', n_jobs=None,\n",
       "             param_grid={'C': [0.1, 1, 100], 'epsilon': [0.1, 0.5, 1],\n",
       "                         'gamma': [1, 3, 5]},\n",
       "             pre_dispatch='2*n_jobs', refit=True, return_train_score=False,\n",
       "             scoring=None, verbose=3)"
      ]
     },
     "execution_count": 15,
     "metadata": {},
     "output_type": "execute_result"
    }
   ],
   "source": [
    "grid.fit(X_train,Y_train)"
   ]
  },
  {
   "cell_type": "code",
   "execution_count": 16,
   "metadata": {},
   "outputs": [
    {
     "name": "stdout",
     "output_type": "stream",
     "text": [
      "The best parameters:{'C': 1, 'epsilon': 0.1, 'gamma': 1}\n"
     ]
    }
   ],
   "source": [
    "#The best parameters\n",
    "print(\"The best parameters:\"+format(grid.best_params_))"
   ]
  },
  {
   "cell_type": "markdown",
   "metadata": {},
   "source": [
    "### What does C, epsilon, and gamma represent?"
   ]
  },
  {
   "cell_type": "markdown",
   "metadata": {},
   "source": [
    "1. 'C': SVMs have a parameter 'C' that determines how much error the SVM will allow for. If 'C' is large, then the SVM has a hard margin — it won’t allow for many misclassifications, and as a result, the margin could be fairly small. If 'C' is too large, the model runs the risk of overfitting. It relies too heavily on the training data, including the outliers. On the other hand, if 'C' is small, the SVM has a soft margin. Some points might fall on the wrong side of the line, but the margin will be large. This is resistant to outliers, but if 'C' gets too small, you run the risk of underfitting.<br>\n",
    "2. 'Gamma': Intuitively, the gamma parameter defines how far the influence of a single training example reaches, with low values meaning ‘far’ and high values meaning ‘close’. The gamma parameters can be seen as the inverse of the radius of influence of samples selected by the model as support vectors.<br>\n",
    "3. 'Epsilon': The value of ϵ defines a margin of tolerance where no penalty is given to errors. The larger ϵ is, the larger errors you admit in your solution."
   ]
  }
 ],
 "metadata": {
  "kernelspec": {
   "display_name": "Python 3",
   "language": "python",
   "name": "python3"
  },
  "language_info": {
   "codemirror_mode": {
    "name": "ipython",
    "version": 3
   },
   "file_extension": ".py",
   "mimetype": "text/x-python",
   "name": "python",
   "nbconvert_exporter": "python",
   "pygments_lexer": "ipython3",
   "version": "3.7.3"
  }
 },
 "nbformat": 4,
 "nbformat_minor": 2
}
